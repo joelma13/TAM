{
 "cells": [
  {
   "cell_type": "markdown",
   "metadata": {},
   "source": [
    "Curso de Especialização em Inteligência Artificial \n",
    "\n",
    "Trabalho da Disciplina Aprendizagem de Máquina\n",
    "\n",
    "Joelma de Fátima Rodrigues Batista Freitas "
   ]
  },
  {
   "cell_type": "markdown",
   "metadata": {},
   "source": [
    "1ª Base de Dados - Emoção "
   ]
  },
  {
   "cell_type": "markdown",
   "metadata": {},
   "source": [
    "Sobre o conjunto de dados\n",
    "O conjunto de dados csv contém todas as menções da Dell no Twitter durante os três primeiros trimestres de 2022 (01 de janeiro a 30 de setembro), juntamente com o sentimento e as emoções de cada tweet. Ele tem cerca de 25 mil tweets junto com data, carimbo de data/hora, nome de usuário e ID do tweet, sentimento, sentiment_score, emoção e emoção_score.\n",
    "\n",
    "Os sentimentos e emoções foram classificados usando transformadores 🤗.\n",
    "\n",
    "Sentimentos: positivos, negativos e neutros\n",
    "Emoções: alegria, amor, otimismo, pessimismo, confiança, surpresa, expectativa, tristeza, raiva, nojo e medo.\n",
    "\n",
    "Os tweets foram copiados usando a biblioteca \"snscrape\", que não requer acesso à API do Twitter. Você pode seguir este bloco de anotações para saber mais sobre a eliminação de tweets usando \"snscrape\"."
   ]
  },
  {
   "cell_type": "code",
   "execution_count": 4,
   "metadata": {},
   "outputs": [],
   "source": [
    "import pandas as pd\n",
    "import matplotlib.pyplot as plt\n",
    "import numpy as np\n",
    "import seaborn as sns\n",
    "%matplotlib inline"
   ]
  },
  {
   "cell_type": "code",
   "execution_count": 9,
   "metadata": {},
   "outputs": [],
   "source": [
    "import csv"
   ]
  },
  {
   "cell_type": "code",
   "execution_count": 25,
   "metadata": {},
   "outputs": [
    {
     "name": "stdout",
     "output_type": "stream",
     "text": [
      "Requirement already satisfied: scikit-learn in c:\\users\\user\\appdata\\local\\programs\\python\\python311\\lib\\site-packages (1.3.0)\n",
      "Requirement already satisfied: numpy>=1.17.3 in c:\\users\\user\\appdata\\local\\programs\\python\\python311\\lib\\site-packages (from scikit-learn) (1.24.3)\n",
      "Requirement already satisfied: scipy>=1.5.0 in c:\\users\\user\\appdata\\local\\programs\\python\\python311\\lib\\site-packages (from scikit-learn) (1.11.1)\n",
      "Requirement already satisfied: joblib>=1.1.1 in c:\\users\\user\\appdata\\local\\programs\\python\\python311\\lib\\site-packages (from scikit-learn) (1.3.1)\n",
      "Requirement already satisfied: threadpoolctl>=2.0.0 in c:\\users\\user\\appdata\\local\\programs\\python\\python311\\lib\\site-packages (from scikit-learn) (3.2.0)\n",
      "Note: you may need to restart the kernel to use updated packages.\n"
     ]
    },
    {
     "name": "stderr",
     "output_type": "stream",
     "text": [
      "\n",
      "[notice] A new release of pip available: 22.3.1 -> 23.2.1\n",
      "[notice] To update, run: python.exe -m pip install --upgrade pip\n"
     ]
    }
   ],
   "source": [
    "pip install scikit-learn"
   ]
  },
  {
   "cell_type": "code",
   "execution_count": 22,
   "metadata": {},
   "outputs": [],
   "source": [
    "import sklearn"
   ]
  },
  {
   "cell_type": "code",
   "execution_count": 28,
   "metadata": {},
   "outputs": [],
   "source": [
    "from sklearn.preprocessing import StandardScaler\n",
    "from sklearn.model_selection import train_test_split\n",
    "from sklearn.neighbors import KNeighborsClassifier\n",
    "from sklearn.tree import DecisionTreeClassifier \n",
    "from sklearn.metrics import accuracy_score, classification_report, confusion_matrix\n",
    "from sklearn.naive_bayes import GaussianNB"
   ]
  },
  {
   "cell_type": "markdown",
   "metadata": {},
   "source": [
    "# Carregamento da 1ª Base de Dados "
   ]
  },
  {
   "cell_type": "code",
   "execution_count": 6,
   "metadata": {},
   "outputs": [],
   "source": [
    "Dell_tweets= pd.read_csv('sentiment-emotion-labelled_Dell_tweets.csv')"
   ]
  },
  {
   "cell_type": "code",
   "execution_count": 7,
   "metadata": {},
   "outputs": [
    {
     "data": {
      "text/html": [
       "<div>\n",
       "<style scoped>\n",
       "    .dataframe tbody tr th:only-of-type {\n",
       "        vertical-align: middle;\n",
       "    }\n",
       "\n",
       "    .dataframe tbody tr th {\n",
       "        vertical-align: top;\n",
       "    }\n",
       "\n",
       "    .dataframe thead th {\n",
       "        text-align: right;\n",
       "    }\n",
       "</style>\n",
       "<table border=\"1\" class=\"dataframe\">\n",
       "  <thead>\n",
       "    <tr style=\"text-align: right;\">\n",
       "      <th></th>\n",
       "      <th>Unnamed: 0</th>\n",
       "      <th>Datetime</th>\n",
       "      <th>Tweet Id</th>\n",
       "      <th>Text</th>\n",
       "      <th>Username</th>\n",
       "      <th>sentiment</th>\n",
       "      <th>sentiment_score</th>\n",
       "      <th>emotion</th>\n",
       "      <th>emotion_score</th>\n",
       "    </tr>\n",
       "  </thead>\n",
       "  <tbody>\n",
       "    <tr>\n",
       "      <th>0</th>\n",
       "      <td>0</td>\n",
       "      <td>2022-09-30 23:29:15+00:00</td>\n",
       "      <td>1575991191170342912</td>\n",
       "      <td>@Logitech @apple @Google @Microsoft @Dell @Len...</td>\n",
       "      <td>ManjuSreedaran</td>\n",
       "      <td>neutral</td>\n",
       "      <td>0.853283</td>\n",
       "      <td>anticipation</td>\n",
       "      <td>0.587121</td>\n",
       "    </tr>\n",
       "    <tr>\n",
       "      <th>1</th>\n",
       "      <td>1</td>\n",
       "      <td>2022-09-30 21:46:35+00:00</td>\n",
       "      <td>1575965354425131008</td>\n",
       "      <td>@MK_habit_addict @official_stier @MortalKombat...</td>\n",
       "      <td>MiKeMcDnet</td>\n",
       "      <td>neutral</td>\n",
       "      <td>0.519470</td>\n",
       "      <td>joy</td>\n",
       "      <td>0.886913</td>\n",
       "    </tr>\n",
       "    <tr>\n",
       "      <th>2</th>\n",
       "      <td>2</td>\n",
       "      <td>2022-09-30 21:18:02+00:00</td>\n",
       "      <td>1575958171423752203</td>\n",
       "      <td>As @CRN celebrates its 40th anniversary, Bob F...</td>\n",
       "      <td>jfollett</td>\n",
       "      <td>positive</td>\n",
       "      <td>0.763791</td>\n",
       "      <td>joy</td>\n",
       "      <td>0.960347</td>\n",
       "    </tr>\n",
       "    <tr>\n",
       "      <th>3</th>\n",
       "      <td>3</td>\n",
       "      <td>2022-09-30 20:05:24+00:00</td>\n",
       "      <td>1575939891485032450</td>\n",
       "      <td>@dell your customer service is horrible especi...</td>\n",
       "      <td>daveccarr</td>\n",
       "      <td>negative</td>\n",
       "      <td>0.954023</td>\n",
       "      <td>anger</td>\n",
       "      <td>0.983203</td>\n",
       "    </tr>\n",
       "    <tr>\n",
       "      <th>4</th>\n",
       "      <td>4</td>\n",
       "      <td>2022-09-30 20:03:17+00:00</td>\n",
       "      <td>1575939359160750080</td>\n",
       "      <td>@zacokalo @Dell @DellCares @Dell give the man ...</td>\n",
       "      <td>heycamella</td>\n",
       "      <td>neutral</td>\n",
       "      <td>0.529170</td>\n",
       "      <td>anger</td>\n",
       "      <td>0.776124</td>\n",
       "    </tr>\n",
       "    <tr>\n",
       "      <th>...</th>\n",
       "      <td>...</td>\n",
       "      <td>...</td>\n",
       "      <td>...</td>\n",
       "      <td>...</td>\n",
       "      <td>...</td>\n",
       "      <td>...</td>\n",
       "      <td>...</td>\n",
       "      <td>...</td>\n",
       "      <td>...</td>\n",
       "    </tr>\n",
       "    <tr>\n",
       "      <th>24965</th>\n",
       "      <td>24965</td>\n",
       "      <td>2022-01-01 02:02:04+00:00</td>\n",
       "      <td>1477097760931336198</td>\n",
       "      <td>@ElDarkAngel2 @GamersNexus @Dell I wouldn't ev...</td>\n",
       "      <td>Eodart</td>\n",
       "      <td>negative</td>\n",
       "      <td>0.682981</td>\n",
       "      <td>anger</td>\n",
       "      <td>0.906309</td>\n",
       "    </tr>\n",
       "    <tr>\n",
       "      <th>24966</th>\n",
       "      <td>24966</td>\n",
       "      <td>2022-01-01 01:57:34+00:00</td>\n",
       "      <td>1477096631300415496</td>\n",
       "      <td>@kite_real @GamersNexus @Dell I didn't really ...</td>\n",
       "      <td>Eodart</td>\n",
       "      <td>positive</td>\n",
       "      <td>0.743940</td>\n",
       "      <td>joy</td>\n",
       "      <td>0.951701</td>\n",
       "    </tr>\n",
       "    <tr>\n",
       "      <th>24967</th>\n",
       "      <td>24967</td>\n",
       "      <td>2022-01-01 01:36:36+00:00</td>\n",
       "      <td>1477091355629432833</td>\n",
       "      <td>Hey @JoshTheFixer here it is....27 4K UHD USB-...</td>\n",
       "      <td>Corleone250</td>\n",
       "      <td>neutral</td>\n",
       "      <td>0.654463</td>\n",
       "      <td>anticipation</td>\n",
       "      <td>0.471185</td>\n",
       "    </tr>\n",
       "    <tr>\n",
       "      <th>24968</th>\n",
       "      <td>24968</td>\n",
       "      <td>2022-01-01 01:31:30+00:00</td>\n",
       "      <td>1477090070830141442</td>\n",
       "      <td>@bravadogaming @thewolfpena @Alienware @intel ...</td>\n",
       "      <td>MrTwistyyy</td>\n",
       "      <td>neutral</td>\n",
       "      <td>0.794049</td>\n",
       "      <td>anticipation</td>\n",
       "      <td>0.747014</td>\n",
       "    </tr>\n",
       "    <tr>\n",
       "      <th>24969</th>\n",
       "      <td>24969</td>\n",
       "      <td>2022-01-01 00:59:37+00:00</td>\n",
       "      <td>1477082048900726784</td>\n",
       "      <td>@rabia_ejaz @Dell Stopped buying windows lapto...</td>\n",
       "      <td>IDevourNehari</td>\n",
       "      <td>positive</td>\n",
       "      <td>0.733861</td>\n",
       "      <td>joy</td>\n",
       "      <td>0.958346</td>\n",
       "    </tr>\n",
       "  </tbody>\n",
       "</table>\n",
       "<p>24970 rows × 9 columns</p>\n",
       "</div>"
      ],
      "text/plain": [
       "       Unnamed: 0                   Datetime             Tweet Id  \\\n",
       "0               0  2022-09-30 23:29:15+00:00  1575991191170342912   \n",
       "1               1  2022-09-30 21:46:35+00:00  1575965354425131008   \n",
       "2               2  2022-09-30 21:18:02+00:00  1575958171423752203   \n",
       "3               3  2022-09-30 20:05:24+00:00  1575939891485032450   \n",
       "4               4  2022-09-30 20:03:17+00:00  1575939359160750080   \n",
       "...           ...                        ...                  ...   \n",
       "24965       24965  2022-01-01 02:02:04+00:00  1477097760931336198   \n",
       "24966       24966  2022-01-01 01:57:34+00:00  1477096631300415496   \n",
       "24967       24967  2022-01-01 01:36:36+00:00  1477091355629432833   \n",
       "24968       24968  2022-01-01 01:31:30+00:00  1477090070830141442   \n",
       "24969       24969  2022-01-01 00:59:37+00:00  1477082048900726784   \n",
       "\n",
       "                                                    Text        Username  \\\n",
       "0      @Logitech @apple @Google @Microsoft @Dell @Len...  ManjuSreedaran   \n",
       "1      @MK_habit_addict @official_stier @MortalKombat...      MiKeMcDnet   \n",
       "2      As @CRN celebrates its 40th anniversary, Bob F...        jfollett   \n",
       "3      @dell your customer service is horrible especi...       daveccarr   \n",
       "4      @zacokalo @Dell @DellCares @Dell give the man ...      heycamella   \n",
       "...                                                  ...             ...   \n",
       "24965  @ElDarkAngel2 @GamersNexus @Dell I wouldn't ev...          Eodart   \n",
       "24966  @kite_real @GamersNexus @Dell I didn't really ...          Eodart   \n",
       "24967  Hey @JoshTheFixer here it is....27 4K UHD USB-...     Corleone250   \n",
       "24968  @bravadogaming @thewolfpena @Alienware @intel ...      MrTwistyyy   \n",
       "24969  @rabia_ejaz @Dell Stopped buying windows lapto...   IDevourNehari   \n",
       "\n",
       "      sentiment  sentiment_score       emotion  emotion_score  \n",
       "0       neutral         0.853283  anticipation       0.587121  \n",
       "1       neutral         0.519470           joy       0.886913  \n",
       "2      positive         0.763791           joy       0.960347  \n",
       "3      negative         0.954023         anger       0.983203  \n",
       "4       neutral         0.529170         anger       0.776124  \n",
       "...         ...              ...           ...            ...  \n",
       "24965  negative         0.682981         anger       0.906309  \n",
       "24966  positive         0.743940           joy       0.951701  \n",
       "24967   neutral         0.654463  anticipation       0.471185  \n",
       "24968   neutral         0.794049  anticipation       0.747014  \n",
       "24969  positive         0.733861           joy       0.958346  \n",
       "\n",
       "[24970 rows x 9 columns]"
      ]
     },
     "execution_count": 7,
     "metadata": {},
     "output_type": "execute_result"
    }
   ],
   "source": [
    "Dell_tweets"
   ]
  },
  {
   "cell_type": "markdown",
   "metadata": {},
   "source": [
    "# Tipo dos dados da base"
   ]
  },
  {
   "cell_type": "markdown",
   "metadata": {},
   "source": [
    "Dados: Sem nome, data e hora, tweet id, texto, usuário, sentimento. "
   ]
  },
  {
   "cell_type": "code",
   "execution_count": 14,
   "metadata": {},
   "outputs": [
    {
     "name": "stdout",
     "output_type": "stream",
     "text": [
      "       Unnamed: 0                   Datetime             Tweet Id  \\\n",
      "0               0  2022-09-30 23:29:15+00:00  1575991191170342912   \n",
      "1               1  2022-09-30 21:46:35+00:00  1575965354425131008   \n",
      "2               2  2022-09-30 21:18:02+00:00  1575958171423752203   \n",
      "3               3  2022-09-30 20:05:24+00:00  1575939891485032450   \n",
      "4               4  2022-09-30 20:03:17+00:00  1575939359160750080   \n",
      "...           ...                        ...                  ...   \n",
      "24965       24965  2022-01-01 02:02:04+00:00  1477097760931336198   \n",
      "24966       24966  2022-01-01 01:57:34+00:00  1477096631300415496   \n",
      "24967       24967  2022-01-01 01:36:36+00:00  1477091355629432833   \n",
      "24968       24968  2022-01-01 01:31:30+00:00  1477090070830141442   \n",
      "24969       24969  2022-01-01 00:59:37+00:00  1477082048900726784   \n",
      "\n",
      "                                                    Text        Username  \\\n",
      "0      @Logitech @apple @Google @Microsoft @Dell @Len...  ManjuSreedaran   \n",
      "1      @MK_habit_addict @official_stier @MortalKombat...      MiKeMcDnet   \n",
      "2      As @CRN celebrates its 40th anniversary, Bob F...        jfollett   \n",
      "3      @dell your customer service is horrible especi...       daveccarr   \n",
      "4      @zacokalo @Dell @DellCares @Dell give the man ...      heycamella   \n",
      "...                                                  ...             ...   \n",
      "24965  @ElDarkAngel2 @GamersNexus @Dell I wouldn't ev...          Eodart   \n",
      "24966  @kite_real @GamersNexus @Dell I didn't really ...          Eodart   \n",
      "24967  Hey @JoshTheFixer here it is....27 4K UHD USB-...     Corleone250   \n",
      "24968  @bravadogaming @thewolfpena @Alienware @intel ...      MrTwistyyy   \n",
      "24969  @rabia_ejaz @Dell Stopped buying windows lapto...   IDevourNehari   \n",
      "\n",
      "      sentiment  sentiment_score       emotion  emotion_score  \n",
      "0       neutral         0.853283  anticipation       0.587121  \n",
      "1       neutral         0.519470           joy       0.886913  \n",
      "2      positive         0.763791           joy       0.960347  \n",
      "3      negative         0.954023         anger       0.983203  \n",
      "4       neutral         0.529170         anger       0.776124  \n",
      "...         ...              ...           ...            ...  \n",
      "24965  negative         0.682981         anger       0.906309  \n",
      "24966  positive         0.743940           joy       0.951701  \n",
      "24967   neutral         0.654463  anticipation       0.471185  \n",
      "24968   neutral         0.794049  anticipation       0.747014  \n",
      "24969  positive         0.733861           joy       0.958346  \n",
      "\n",
      "[24970 rows x 9 columns]\n"
     ]
    }
   ],
   "source": [
    "print (Dell_tweets)"
   ]
  },
  {
   "cell_type": "markdown",
   "metadata": {},
   "source": [
    "KNN\n",
    "Dividir uma base de dados para o algoritmo KNN (K-Nearest Neighbors), você geralmente realiza o processo de divisão em dois conjuntos: um conjunto de treinamento e um conjunto de teste. O conjunto de treinamento é utilizado para treinar o modelo KNN, enquanto o conjunto de teste é utilizado para avaliar o desempenho do modelo."
   ]
  },
  {
   "cell_type": "code",
   "execution_count": 1,
   "metadata": {},
   "outputs": [],
   "source": [
    "from sklearn.model_selection import train_test_split"
   ]
  },
  {
   "cell_type": "markdown",
   "metadata": {},
   "source": [
    "# Dividir os dados em conjunto de treinamento e teste (80% para treinamento, 20% para teste)"
   ]
  },
  {
   "cell_type": "markdown",
   "metadata": {},
   "source": [
    "# x  são as colunas atributos: \n",
    "# y  coluna rótulo, o que queremos prever"
   ]
  },
  {
   "cell_type": "code",
   "execution_count": 10,
   "metadata": {},
   "outputs": [
    {
     "ename": "NameError",
     "evalue": "name 'np' is not defined",
     "output_type": "error",
     "traceback": [
      "\u001b[1;31m---------------------------------------------------------------------------\u001b[0m",
      "\u001b[1;31mNameError\u001b[0m                                 Traceback (most recent call last)",
      "Cell \u001b[1;32mIn[10], line 1\u001b[0m\n\u001b[1;32m----> 1\u001b[0m X \u001b[39m=\u001b[39m np\u001b[39m.\u001b[39mcolumn_stack((Unnamed, Datetime, TweetId, Text, Username, sentiment, sentiment_score, emotion_score))\n",
      "\u001b[1;31mNameError\u001b[0m: name 'np' is not defined"
     ]
    }
   ],
   "source": [
    "X = np.column_stack((Unnamed, Datetime, TweetId, Text, Username, sentiment, sentiment_score, emotion_score))"
   ]
  },
  {
   "cell_type": "code",
   "execution_count": 3,
   "metadata": {},
   "outputs": [
    {
     "ename": "NameError",
     "evalue": "name 'X' is not defined",
     "output_type": "error",
     "traceback": [
      "\u001b[1;31m---------------------------------------------------------------------------\u001b[0m",
      "\u001b[1;31mNameError\u001b[0m                                 Traceback (most recent call last)",
      "Cell \u001b[1;32mIn[3], line 1\u001b[0m\n\u001b[1;32m----> 1\u001b[0m X_train, X_test, y_train, y_test \u001b[39m=\u001b[39m train_test_split(X, y, test_size\u001b[39m=\u001b[39m\u001b[39m0.2\u001b[39m, random_state\u001b[39m=\u001b[39m\u001b[39m42\u001b[39m)\n",
      "\u001b[1;31mNameError\u001b[0m: name 'X' is not defined"
     ]
    }
   ],
   "source": [
    "\n",
    "X_train, X_test, y_train, y_test = train_test_split(X, y, test_size=0.2, random_state=42)\n",
    "\n"
   ]
  }
 ],
 "metadata": {
  "kernelspec": {
   "display_name": "Python 3",
   "language": "python",
   "name": "python3"
  },
  "language_info": {
   "codemirror_mode": {
    "name": "ipython",
    "version": 3
   },
   "file_extension": ".py",
   "mimetype": "text/x-python",
   "name": "python",
   "nbconvert_exporter": "python",
   "pygments_lexer": "ipython3",
   "version": "3.11.3"
  },
  "orig_nbformat": 4
 },
 "nbformat": 4,
 "nbformat_minor": 2
}
